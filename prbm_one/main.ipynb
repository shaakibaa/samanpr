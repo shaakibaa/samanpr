{
 "cells": [
  {
   "cell_type": "code",
   "execution_count": 2,
   "metadata": {},
   "outputs": [],
   "source": [
    "#requirements\n",
    "from statistics import mean, stdev"
   ]
  },
  {
   "cell_type": "code",
   "execution_count": 3,
   "metadata": {},
   "outputs": [
    {
     "name": "stdout",
     "output_type": "stream",
     "text": [
      "No. of cards:26\n",
      "No. of suits:2\n"
     ]
    }
   ],
   "source": [
    "# Getting input & creating sequence of points\n",
    "N = int(input(\"No. of cards:\"))\n",
    "M = int(input(\"No. of suits:\"))\n",
    "seq = [i for i in range(N-M+1)]"
   ]
  },
  {
   "cell_type": "code",
   "execution_count": 4,
   "metadata": {},
   "outputs": [
    {
     "name": "stdout",
     "output_type": "stream",
     "text": [
      "Mean: 12\n",
      "Standard Deviation: 7.359800721939872\n"
     ]
    }
   ],
   "source": [
    "print(\"Mean: {}\".format(mean(seq)))\n",
    "print(\"Standard Deviation: {}\".format(stdev(seq)))"
   ]
  },
  {
   "cell_type": "code",
   "execution_count": 5,
   "metadata": {},
   "outputs": [
    {
     "name": "stdout",
     "output_type": "stream",
     "text": [
      "conditional probability that P>12 given that it's P>6 when N=26 and M=2: 0.6666666666666666\n"
     ]
    }
   ],
   "source": [
    "# Conditional probability: p(A|B) = p(A&B)/p(B)\n",
    "# answer of question 5\"\n",
    "p_out = (12/25)/(18/25)\n",
    "print(\"conditional probability that P>12 given that it's P>6 when N=26 and M=2:\", p_out)"
   ]
  },
  {
   "cell_type": "code",
   "execution_count": 6,
   "metadata": {},
   "outputs": [
    {
     "name": "stdout",
     "output_type": "stream",
     "text": [
      "conditional probability that P>12 given that it's P>6 when N=52 and M=4: 0.8571428571428572\n"
     ]
    }
   ],
   "source": [
    "p_out2 = (36/49)/(42/49)\n",
    "print(\"conditional probability that P>12 given that it's P>6 when N=52 and M=4:\", p_out2)"
   ]
  },
  {
   "cell_type": "code",
   "execution_count": 8,
   "metadata": {},
   "outputs": [
    {
     "name": "stderr",
     "output_type": "stream",
     "text": [
      "'dephell' is not recognized as an internal or external command,\n",
      "operable program or batch file.\n"
     ]
    }
   ],
   "source": [
    "!dephell deps convert --from=imports --to=requirements.txt\n"
   ]
  },
  {
   "cell_type": "code",
   "execution_count": null,
   "metadata": {},
   "outputs": [],
   "source": []
  }
 ],
 "metadata": {
  "kernelspec": {
   "display_name": "Python 3",
   "language": "python",
   "name": "python3"
  },
  "language_info": {
   "codemirror_mode": {
    "name": "ipython",
    "version": 3
   },
   "file_extension": ".py",
   "mimetype": "text/x-python",
   "name": "python",
   "nbconvert_exporter": "python",
   "pygments_lexer": "ipython3",
   "version": "3.6.10"
  }
 },
 "nbformat": 4,
 "nbformat_minor": 4
}
